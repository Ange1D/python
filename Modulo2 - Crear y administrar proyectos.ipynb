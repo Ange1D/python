{
 "cells": [
  {
   "cell_type": "markdown",
   "metadata": {},
   "source": [
    "# Crear un entorno virtual\n",
    "\n",
    "Desde tu terminal ve al directorio donde deseas guardar tu proyecto. (Documentos/TuFolderPreferido) Ejemplo en windows: cd Documents/TuFolderPreferido\n",
    "\n",
    "\n",
    "En consola: python -m venv env\n",
    "\n",
    "Donde:\n",
    "\n",
    "* python3: La versión de python a utilizar.\n",
    "* venv: Llamada al módulo venv conocido como virtual environment.\n",
    "* env: Nombre de nuestro entorno virtual."
   ]
  },
  {
   "cell_type": "markdown",
   "metadata": {},
   "source": [
    "# Activar el entorno virtual\n",
    "\n",
    "En consola: env\\Scripts\\activate"
   ]
  },
  {
   "cell_type": "markdown",
   "metadata": {},
   "source": [
    "# Instalar un paquete\n",
    "\n",
    " En consola: pip install python-dateutil"
   ]
  },
  {
   "cell_type": "markdown",
   "metadata": {},
   "source": [
    "# Para ver qué paquetes están ahora instalados en tu entorno virtual\n",
    "\n",
    " En consola: pip freeze"
   ]
  },
  {
   "cell_type": "markdown",
   "metadata": {},
   "source": [
    "# Salir de ese entorno\n",
    " En consola: deactivate"
   ]
  },
  {
   "cell_type": "markdown",
   "metadata": {},
   "source": [
    "# Más formas de instalar un paquete\n",
    "\n",
    "* Teniendo un conjunto de archivos en tu máquina e instalándolos desde esa fuente:\n",
    "\n",
    "cd <to where the package is on your machine>\n",
    "python3 -m pip install \n",
    "\n",
    "* Instalar desde un repositorio de GitHub que nos proporciona el control de versiones:\n",
    "\n",
    "git+https://github.com/your-repo.git\n",
    "\n",
    "* Instalar desde un archivo comprimido:\n",
    "\n",
    "python3 -m pip install package.tar.gz"
   ]
  }
 ],
 "metadata": {
  "language_info": {
   "name": "python"
  },
  "orig_nbformat": 4
 },
 "nbformat": 4,
 "nbformat_minor": 2
}
